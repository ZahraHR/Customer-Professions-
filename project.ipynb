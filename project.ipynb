{
 "cells": [
  {
   "cell_type": "code",
   "execution_count": 2,
   "id": "cc6ab208",
   "metadata": {},
   "outputs": [],
   "source": [
    "import pandas as pd\n",
    "import numpy as np\n",
    "\n",
    "# import data \n",
    "facturation=pd.read_csv(\"Bureau/Facturations.csv\")\n",
    "client_to_predict=pd.read_csv(\"Bureau/Clients_to_complete.csv\")\n",
    "clients=client=pd.read_csv(\"Bureau/Clients.csv\",delimiter=\";\", encoding='latin-1')"
   ]
  },
  {
   "cell_type": "code",
   "execution_count": 2,
   "id": "99e2f3e0",
   "metadata": {},
   "outputs": [
    {
     "data": {
      "text/html": [
       "<div>\n",
       "<style scoped>\n",
       "    .dataframe tbody tr th:only-of-type {\n",
       "        vertical-align: middle;\n",
       "    }\n",
       "\n",
       "    .dataframe tbody tr th {\n",
       "        vertical-align: top;\n",
       "    }\n",
       "\n",
       "    .dataframe thead th {\n",
       "        text-align: right;\n",
       "    }\n",
       "</style>\n",
       "<table border=\"1\" class=\"dataframe\">\n",
       "  <thead>\n",
       "    <tr style=\"text-align: right;\">\n",
       "      <th></th>\n",
       "      <th>product_id</th>\n",
       "      <th>client_id</th>\n",
       "      <th>timestamp</th>\n",
       "    </tr>\n",
       "  </thead>\n",
       "  <tbody>\n",
       "    <tr>\n",
       "      <th>0</th>\n",
       "      <td>21.0</td>\n",
       "      <td>7954279432194</td>\n",
       "      <td>1.486218e+09</td>\n",
       "    </tr>\n",
       "    <tr>\n",
       "      <th>1</th>\n",
       "      <td>12.0</td>\n",
       "      <td>10307921510401</td>\n",
       "      <td>1.477860e+09</td>\n",
       "    </tr>\n",
       "    <tr>\n",
       "      <th>2</th>\n",
       "      <td>3.0</td>\n",
       "      <td>2843268349952</td>\n",
       "      <td>1.450139e+09</td>\n",
       "    </tr>\n",
       "    <tr>\n",
       "      <th>3</th>\n",
       "      <td>90.0</td>\n",
       "      <td>12300786335744</td>\n",
       "      <td>1.479925e+09</td>\n",
       "    </tr>\n",
       "    <tr>\n",
       "      <th>4</th>\n",
       "      <td>86.0</td>\n",
       "      <td>1752346656768</td>\n",
       "      <td>1.506672e+09</td>\n",
       "    </tr>\n",
       "  </tbody>\n",
       "</table>\n",
       "</div>"
      ],
      "text/plain": [
       "   product_id       client_id     timestamp\n",
       "0        21.0   7954279432194  1.486218e+09\n",
       "1        12.0  10307921510401  1.477860e+09\n",
       "2         3.0   2843268349952  1.450139e+09\n",
       "3        90.0  12300786335744  1.479925e+09\n",
       "4        86.0   1752346656768  1.506672e+09"
      ]
     },
     "execution_count": 2,
     "metadata": {},
     "output_type": "execute_result"
    }
   ],
   "source": [
    "facturation.head()"
   ]
  },
  {
   "cell_type": "code",
   "execution_count": 3,
   "id": "0f42f120",
   "metadata": {},
   "outputs": [
    {
     "data": {
      "text/html": [
       "<div>\n",
       "<style scoped>\n",
       "    .dataframe tbody tr th:only-of-type {\n",
       "        vertical-align: middle;\n",
       "    }\n",
       "\n",
       "    .dataframe tbody tr th {\n",
       "        vertical-align: top;\n",
       "    }\n",
       "\n",
       "    .dataframe thead th {\n",
       "        text-align: right;\n",
       "    }\n",
       "</style>\n",
       "<table border=\"1\" class=\"dataframe\">\n",
       "  <thead>\n",
       "    <tr style=\"text-align: right;\">\n",
       "      <th></th>\n",
       "      <th>client_id</th>\n",
       "    </tr>\n",
       "  </thead>\n",
       "  <tbody>\n",
       "    <tr>\n",
       "      <th>0</th>\n",
       "      <td>240518168577</td>\n",
       "    </tr>\n",
       "    <tr>\n",
       "      <th>1</th>\n",
       "      <td>3659312136192</td>\n",
       "    </tr>\n",
       "    <tr>\n",
       "      <th>2</th>\n",
       "      <td>4123168604161</td>\n",
       "    </tr>\n",
       "    <tr>\n",
       "      <th>3</th>\n",
       "      <td>7456063225858</td>\n",
       "    </tr>\n",
       "    <tr>\n",
       "      <th>4</th>\n",
       "      <td>1829656068096</td>\n",
       "    </tr>\n",
       "  </tbody>\n",
       "</table>\n",
       "</div>"
      ],
      "text/plain": [
       "       client_id\n",
       "0   240518168577\n",
       "1  3659312136192\n",
       "2  4123168604161\n",
       "3  7456063225858\n",
       "4  1829656068096"
      ]
     },
     "execution_count": 3,
     "metadata": {},
     "output_type": "execute_result"
    }
   ],
   "source": [
    "client_to_predict.head()"
   ]
  },
  {
   "cell_type": "code",
   "execution_count": 4,
   "id": "af613e4b",
   "metadata": {},
   "outputs": [
    {
     "data": {
      "text/html": [
       "<div>\n",
       "<style scoped>\n",
       "    .dataframe tbody tr th:only-of-type {\n",
       "        vertical-align: middle;\n",
       "    }\n",
       "\n",
       "    .dataframe tbody tr th {\n",
       "        vertical-align: top;\n",
       "    }\n",
       "\n",
       "    .dataframe thead th {\n",
       "        text-align: right;\n",
       "    }\n",
       "</style>\n",
       "<table border=\"1\" class=\"dataframe\">\n",
       "  <thead>\n",
       "    <tr style=\"text-align: right;\">\n",
       "      <th></th>\n",
       "      <th>client_id</th>\n",
       "      <th>Anciennete</th>\n",
       "      <th>Profession</th>\n",
       "    </tr>\n",
       "  </thead>\n",
       "  <tbody>\n",
       "    <tr>\n",
       "      <th>0</th>\n",
       "      <td>13460427505664</td>\n",
       "      <td>142.0</td>\n",
       "      <td>Menuisier</td>\n",
       "    </tr>\n",
       "    <tr>\n",
       "      <th>1</th>\n",
       "      <td>4707284156416</td>\n",
       "      <td>259.0</td>\n",
       "      <td>Platrier</td>\n",
       "    </tr>\n",
       "    <tr>\n",
       "      <th>2</th>\n",
       "      <td>2525440770048</td>\n",
       "      <td>36.0</td>\n",
       "      <td>Menuisier</td>\n",
       "    </tr>\n",
       "    <tr>\n",
       "      <th>3</th>\n",
       "      <td>16973710753795</td>\n",
       "      <td>216.0</td>\n",
       "      <td>Maçon</td>\n",
       "    </tr>\n",
       "    <tr>\n",
       "      <th>4</th>\n",
       "      <td>3642132267010</td>\n",
       "      <td>19.0</td>\n",
       "      <td>Menuisier</td>\n",
       "    </tr>\n",
       "  </tbody>\n",
       "</table>\n",
       "</div>"
      ],
      "text/plain": [
       "        client_id  Anciennete Profession\n",
       "0  13460427505664       142.0  Menuisier\n",
       "1   4707284156416       259.0   Platrier\n",
       "2   2525440770048        36.0  Menuisier\n",
       "3  16973710753795       216.0      Maçon\n",
       "4   3642132267010        19.0  Menuisier"
      ]
     },
     "execution_count": 4,
     "metadata": {},
     "output_type": "execute_result"
    }
   ],
   "source": [
    "clients.head()"
   ]
  },
  {
   "cell_type": "code",
   "execution_count": 5,
   "id": "023d56df",
   "metadata": {},
   "outputs": [
    {
     "data": {
      "text/plain": [
       "((58037, 3), (4985, 3), (1265, 1))"
      ]
     },
     "execution_count": 5,
     "metadata": {},
     "output_type": "execute_result"
    }
   ],
   "source": [
    "facturation.shape, clients.shape, client_to_predict.shape"
   ]
  },
  {
   "cell_type": "code",
   "execution_count": 6,
   "id": "b5cbc3a2",
   "metadata": {},
   "outputs": [
    {
     "data": {
      "text/plain": [
       "(5973, 4985, 5, 102)"
      ]
     },
     "execution_count": 6,
     "metadata": {},
     "output_type": "execute_result"
    }
   ],
   "source": [
    "# Check unique values\n",
    "len(facturation['client_id'].unique()),len(client['client_id'].unique()),len(clients['Profession'].unique()),len(facturation['product_id'].unique())"
   ]
  },
  {
   "cell_type": "markdown",
   "id": "53bd215d",
   "metadata": {},
   "source": [
    "There is 5 class labels in \"profession\".\n",
    "\n",
    "Poduct_id can be used as a categorical feature (each class label can be categorized by a type of certain of items)."
   ]
  },
  {
   "cell_type": "markdown",
   "id": "4d094c48",
   "metadata": {},
   "source": [
    "# joining tables"
   ]
  },
  {
   "cell_type": "code",
   "execution_count": 7,
   "id": "94f040a9",
   "metadata": {},
   "outputs": [
    {
     "data": {
      "text/html": [
       "<div>\n",
       "<style scoped>\n",
       "    .dataframe tbody tr th:only-of-type {\n",
       "        vertical-align: middle;\n",
       "    }\n",
       "\n",
       "    .dataframe tbody tr th {\n",
       "        vertical-align: top;\n",
       "    }\n",
       "\n",
       "    .dataframe thead th {\n",
       "        text-align: right;\n",
       "    }\n",
       "</style>\n",
       "<table border=\"1\" class=\"dataframe\">\n",
       "  <thead>\n",
       "    <tr style=\"text-align: right;\">\n",
       "      <th></th>\n",
       "      <th>client_id</th>\n",
       "      <th>Anciennete</th>\n",
       "      <th>Profession</th>\n",
       "    </tr>\n",
       "  </thead>\n",
       "  <tbody>\n",
       "  </tbody>\n",
       "</table>\n",
       "</div>"
      ],
      "text/plain": [
       "Empty DataFrame\n",
       "Columns: [client_id, Anciennete, Profession]\n",
       "Index: []"
      ]
     },
     "execution_count": 7,
     "metadata": {},
     "output_type": "execute_result"
    }
   ],
   "source": [
    "#Let's check first if there is somme clients to predict in the clients table\n",
    "# we ll do an inner joing to see if there common client_id s\n",
    "pd.merge(client_to_predict, clients, how='inner',on='client_id')"
   ]
  },
  {
   "cell_type": "code",
   "execution_count": 3,
   "id": "7e3cffe5",
   "metadata": {},
   "outputs": [
    {
     "data": {
      "text/html": [
       "<div>\n",
       "<style scoped>\n",
       "    .dataframe tbody tr th:only-of-type {\n",
       "        vertical-align: middle;\n",
       "    }\n",
       "\n",
       "    .dataframe tbody tr th {\n",
       "        vertical-align: top;\n",
       "    }\n",
       "\n",
       "    .dataframe thead th {\n",
       "        text-align: right;\n",
       "    }\n",
       "</style>\n",
       "<table border=\"1\" class=\"dataframe\">\n",
       "  <thead>\n",
       "    <tr style=\"text-align: right;\">\n",
       "      <th></th>\n",
       "      <th>product_id</th>\n",
       "      <th>client_id</th>\n",
       "      <th>timestamp</th>\n",
       "      <th>Anciennete</th>\n",
       "      <th>Profession</th>\n",
       "    </tr>\n",
       "  </thead>\n",
       "  <tbody>\n",
       "    <tr>\n",
       "      <th>0</th>\n",
       "      <td>21.0</td>\n",
       "      <td>7954279432194</td>\n",
       "      <td>1.486218e+09</td>\n",
       "      <td>151.0</td>\n",
       "      <td>Menuisier</td>\n",
       "    </tr>\n",
       "    <tr>\n",
       "      <th>1</th>\n",
       "      <td>12.0</td>\n",
       "      <td>10307921510401</td>\n",
       "      <td>1.477860e+09</td>\n",
       "      <td>143.0</td>\n",
       "      <td>Platrier</td>\n",
       "    </tr>\n",
       "    <tr>\n",
       "      <th>2</th>\n",
       "      <td>3.0</td>\n",
       "      <td>2843268349952</td>\n",
       "      <td>1.450139e+09</td>\n",
       "      <td>NaN</td>\n",
       "      <td>NaN</td>\n",
       "    </tr>\n",
       "    <tr>\n",
       "      <th>3</th>\n",
       "      <td>90.0</td>\n",
       "      <td>12300786335744</td>\n",
       "      <td>1.479925e+09</td>\n",
       "      <td>63.0</td>\n",
       "      <td>Platrier</td>\n",
       "    </tr>\n",
       "    <tr>\n",
       "      <th>4</th>\n",
       "      <td>86.0</td>\n",
       "      <td>1752346656768</td>\n",
       "      <td>1.506672e+09</td>\n",
       "      <td>NaN</td>\n",
       "      <td>NaN</td>\n",
       "    </tr>\n",
       "  </tbody>\n",
       "</table>\n",
       "</div>"
      ],
      "text/plain": [
       "   product_id       client_id     timestamp  Anciennete Profession\n",
       "0        21.0   7954279432194  1.486218e+09       151.0  Menuisier\n",
       "1        12.0  10307921510401  1.477860e+09       143.0   Platrier\n",
       "2         3.0   2843268349952  1.450139e+09         NaN        NaN\n",
       "3        90.0  12300786335744  1.479925e+09        63.0   Platrier\n",
       "4        86.0   1752346656768  1.506672e+09         NaN        NaN"
      ]
     },
     "execution_count": 3,
     "metadata": {},
     "output_type": "execute_result"
    }
   ],
   "source": [
    "left_data=facturation.merge(clients, on='client_id', how='left')\n",
    "left_data.head()"
   ]
  },
  {
   "cell_type": "code",
   "execution_count": 9,
   "id": "b9ef4da5",
   "metadata": {},
   "outputs": [
    {
     "data": {
      "text/plain": [
       "product_id       53\n",
       "client_id         0\n",
       "timestamp       559\n",
       "Anciennete    13627\n",
       "Profession    11470\n",
       "dtype: int64"
      ]
     },
     "execution_count": 9,
     "metadata": {},
     "output_type": "execute_result"
    }
   ],
   "source": [
    "left_data.isnull().sum()"
   ]
  },
  {
   "cell_type": "code",
   "execution_count": 10,
   "id": "524729f8",
   "metadata": {},
   "outputs": [
    {
     "data": {
      "text/plain": [
       "True"
      ]
     },
     "execution_count": 10,
     "metadata": {},
     "output_type": "execute_result"
    }
   ],
   "source": [
    "#we check clients to predict for wich the product_id is null \n",
    "# list of clients to predict for wich the product_id is missing\n",
    "liste1=list(pd.merge(client_to_predict, left_data[left_data.product_id.isnull()], how='inner',on='client_id').client_id)\n",
    "# list of clients in left_data for wich product_id is not missing\n",
    "liste2=list(left_data[left_data.product_id.notnull()].client_id)\n",
    "all(item in liste2 for item in liste1)"
   ]
  },
  {
   "cell_type": "markdown",
   "id": "0640c39d",
   "metadata": {},
   "source": [
    "So here we make sure that we have information on  all the clients to predict existing in left_data.\n",
    "\n",
    "we made sure earlier that all the clients to predict are not in the client table. So we can't know their \"anciennete\", we better delet this feature."
   ]
  },
  {
   "cell_type": "code",
   "execution_count": 4,
   "id": "23c6bd5e",
   "metadata": {},
   "outputs": [
    {
     "data": {
      "text/html": [
       "<div>\n",
       "<style scoped>\n",
       "    .dataframe tbody tr th:only-of-type {\n",
       "        vertical-align: middle;\n",
       "    }\n",
       "\n",
       "    .dataframe tbody tr th {\n",
       "        vertical-align: top;\n",
       "    }\n",
       "\n",
       "    .dataframe thead th {\n",
       "        text-align: right;\n",
       "    }\n",
       "</style>\n",
       "<table border=\"1\" class=\"dataframe\">\n",
       "  <thead>\n",
       "    <tr style=\"text-align: right;\">\n",
       "      <th></th>\n",
       "      <th>product_id</th>\n",
       "      <th>client_id</th>\n",
       "      <th>Profession</th>\n",
       "    </tr>\n",
       "  </thead>\n",
       "  <tbody>\n",
       "    <tr>\n",
       "      <th>0</th>\n",
       "      <td>21.0</td>\n",
       "      <td>7954279432194</td>\n",
       "      <td>Menuisier</td>\n",
       "    </tr>\n",
       "    <tr>\n",
       "      <th>1</th>\n",
       "      <td>12.0</td>\n",
       "      <td>10307921510401</td>\n",
       "      <td>Platrier</td>\n",
       "    </tr>\n",
       "    <tr>\n",
       "      <th>2</th>\n",
       "      <td>3.0</td>\n",
       "      <td>2843268349952</td>\n",
       "      <td>NaN</td>\n",
       "    </tr>\n",
       "    <tr>\n",
       "      <th>3</th>\n",
       "      <td>90.0</td>\n",
       "      <td>12300786335744</td>\n",
       "      <td>Platrier</td>\n",
       "    </tr>\n",
       "    <tr>\n",
       "      <th>4</th>\n",
       "      <td>86.0</td>\n",
       "      <td>1752346656768</td>\n",
       "      <td>NaN</td>\n",
       "    </tr>\n",
       "  </tbody>\n",
       "</table>\n",
       "</div>"
      ],
      "text/plain": [
       "   product_id       client_id Profession\n",
       "0        21.0   7954279432194  Menuisier\n",
       "1        12.0  10307921510401   Platrier\n",
       "2         3.0   2843268349952        NaN\n",
       "3        90.0  12300786335744   Platrier\n",
       "4        86.0   1752346656768        NaN"
      ]
     },
     "execution_count": 4,
     "metadata": {},
     "output_type": "execute_result"
    }
   ],
   "source": [
    "left_data=left_data.drop(['timestamp','Anciennete'],axis=1)\n",
    "left_data.head()"
   ]
  },
  {
   "cell_type": "code",
   "execution_count": 5,
   "id": "5b34a000",
   "metadata": {},
   "outputs": [
    {
     "data": {
      "text/plain": [
       "product_id        0\n",
       "client_id         0\n",
       "Profession    11458\n",
       "dtype: int64"
      ]
     },
     "execution_count": 5,
     "metadata": {},
     "output_type": "execute_result"
    }
   ],
   "source": [
    "left_data =left_data.dropna( how='any',subset=['product_id'])\n",
    "left_data.isnull().sum()"
   ]
  },
  {
   "cell_type": "markdown",
   "id": "daedaa6d",
   "metadata": {},
   "source": [
    "# Categorical encoding"
   ]
  },
  {
   "cell_type": "code",
   "execution_count": 13,
   "id": "168a200d",
   "metadata": {},
   "outputs": [
    {
     "data": {
      "text/plain": [
       "array(['Menuisier', 'Platrier', nan, 'Maçon', 'Couvreur', 'Plombier'],\n",
       "      dtype=object)"
      ]
     },
     "execution_count": 13,
     "metadata": {},
     "output_type": "execute_result"
    }
   ],
   "source": [
    "left_data['Profession'].unique()"
   ]
  },
  {
   "cell_type": "code",
   "execution_count": 6,
   "id": "59b5104e",
   "metadata": {},
   "outputs": [
    {
     "data": {
      "text/html": [
       "<div>\n",
       "<style scoped>\n",
       "    .dataframe tbody tr th:only-of-type {\n",
       "        vertical-align: middle;\n",
       "    }\n",
       "\n",
       "    .dataframe tbody tr th {\n",
       "        vertical-align: top;\n",
       "    }\n",
       "\n",
       "    .dataframe thead th {\n",
       "        text-align: right;\n",
       "    }\n",
       "</style>\n",
       "<table border=\"1\" class=\"dataframe\">\n",
       "  <thead>\n",
       "    <tr style=\"text-align: right;\">\n",
       "      <th></th>\n",
       "      <th>product_id</th>\n",
       "      <th>client_id</th>\n",
       "      <th>Profession</th>\n",
       "    </tr>\n",
       "  </thead>\n",
       "  <tbody>\n",
       "    <tr>\n",
       "      <th>0</th>\n",
       "      <td>21.0</td>\n",
       "      <td>7954279432194</td>\n",
       "      <td>1.0</td>\n",
       "    </tr>\n",
       "    <tr>\n",
       "      <th>1</th>\n",
       "      <td>12.0</td>\n",
       "      <td>10307921510401</td>\n",
       "      <td>2.0</td>\n",
       "    </tr>\n",
       "    <tr>\n",
       "      <th>2</th>\n",
       "      <td>3.0</td>\n",
       "      <td>2843268349952</td>\n",
       "      <td>NaN</td>\n",
       "    </tr>\n",
       "    <tr>\n",
       "      <th>3</th>\n",
       "      <td>90.0</td>\n",
       "      <td>12300786335744</td>\n",
       "      <td>2.0</td>\n",
       "    </tr>\n",
       "    <tr>\n",
       "      <th>4</th>\n",
       "      <td>86.0</td>\n",
       "      <td>1752346656768</td>\n",
       "      <td>NaN</td>\n",
       "    </tr>\n",
       "  </tbody>\n",
       "</table>\n",
       "</div>"
      ],
      "text/plain": [
       "   product_id       client_id  Profession\n",
       "0        21.0   7954279432194         1.0\n",
       "1        12.0  10307921510401         2.0\n",
       "2         3.0   2843268349952         NaN\n",
       "3        90.0  12300786335744         2.0\n",
       "4        86.0   1752346656768         NaN"
      ]
     },
     "execution_count": 6,
     "metadata": {},
     "output_type": "execute_result"
    }
   ],
   "source": [
    "# target variable encoding\n",
    "left_data = left_data.replace({'Menuisier': 1, 'Platrier':2, 'Maçon':3, 'Plombier':4, 'Couvreur':5})\n",
    "left_data.head()"
   ]
  },
  {
   "cell_type": "code",
   "execution_count": 15,
   "id": "8af12435",
   "metadata": {},
   "outputs": [
    {
     "name": "stdout",
     "output_type": "stream",
     "text": [
      "Requirement already satisfied: category_encoders in ./anaconda3/lib/python3.8/site-packages (2.3.0)\n",
      "Requirement already satisfied: numpy>=1.14.0 in ./anaconda3/lib/python3.8/site-packages (from category_encoders) (1.20.1)\n",
      "Requirement already satisfied: patsy>=0.5.1 in ./anaconda3/lib/python3.8/site-packages (from category_encoders) (0.5.1)\n",
      "Requirement already satisfied: scikit-learn>=0.20.0 in ./anaconda3/lib/python3.8/site-packages (from category_encoders) (0.24.1)\n",
      "Requirement already satisfied: statsmodels>=0.9.0 in ./anaconda3/lib/python3.8/site-packages (from category_encoders) (0.12.2)\n",
      "Requirement already satisfied: scipy>=1.0.0 in ./anaconda3/lib/python3.8/site-packages (from category_encoders) (1.6.2)\n",
      "Requirement already satisfied: pandas>=0.21.1 in ./anaconda3/lib/python3.8/site-packages (from category_encoders) (1.2.4)\n",
      "Requirement already satisfied: python-dateutil>=2.7.3 in ./anaconda3/lib/python3.8/site-packages (from pandas>=0.21.1->category_encoders) (2.8.1)\n",
      "Requirement already satisfied: pytz>=2017.3 in ./anaconda3/lib/python3.8/site-packages (from pandas>=0.21.1->category_encoders) (2021.1)\n",
      "Requirement already satisfied: six in ./anaconda3/lib/python3.8/site-packages (from patsy>=0.5.1->category_encoders) (1.15.0)\n",
      "Requirement already satisfied: joblib>=0.11 in ./anaconda3/lib/python3.8/site-packages (from scikit-learn>=0.20.0->category_encoders) (1.0.1)\n",
      "Requirement already satisfied: threadpoolctl>=2.0.0 in ./anaconda3/lib/python3.8/site-packages (from scikit-learn>=0.20.0->category_encoders) (2.1.0)\n",
      "Note: you may need to restart the kernel to use updated packages.\n"
     ]
    }
   ],
   "source": [
    "pip install --upgrade category_encoders"
   ]
  },
  {
   "cell_type": "code",
   "execution_count": 7,
   "id": "e247c1db",
   "metadata": {},
   "outputs": [],
   "source": [
    "# product_id oneHotEncoding (we can use other types of encoding for high cordinality data such as hash encoder, but let's try this first)\n",
    "\n",
    "import category_encoders as ce\n",
    "\n",
    "encoder=ce.OneHotEncoder(cols='product_id',handle_unknown='return_nan',return_df=True,use_cat_names=True)\n",
    "left_data = encoder.fit_transform(left_data)"
   ]
  },
  {
   "cell_type": "code",
   "execution_count": 8,
   "id": "d3cda0ad",
   "metadata": {},
   "outputs": [
    {
     "data": {
      "text/plain": [
       "((46526, 103), (11458, 103))"
      ]
     },
     "execution_count": 8,
     "metadata": {},
     "output_type": "execute_result"
    }
   ],
   "source": [
    "# we separate the into to datasets, for one the professions are missing, and the other they are nots.\n",
    "null_professions=left_data[left_data.Profession.isnull()]\n",
    "data_to_use=left_data[left_data.Profession.notnull()]\n",
    "data_to_use.shape, null_professions.shape"
   ]
  },
  {
   "cell_type": "code",
   "execution_count": 9,
   "id": "1f73b447",
   "metadata": {},
   "outputs": [
    {
     "data": {
      "text/plain": [
       "((4764, 103), (1209, 103))"
      ]
     },
     "execution_count": 9,
     "metadata": {},
     "output_type": "execute_result"
    }
   ],
   "source": [
    "# for each client we want to see all the products he bought, we ll set the values >1 to 1\n",
    "data_to_use=data_to_use.groupby(['client_id','Profession']).sum().reset_index()\n",
    "null_professions=null_professions.groupby(['client_id']).sum().reset_index()\n",
    "data_to_use.shape, null_professions.shape"
   ]
  },
  {
   "cell_type": "code",
   "execution_count": 10,
   "id": "3786052f",
   "metadata": {},
   "outputs": [
    {
     "data": {
      "text/html": [
       "<div>\n",
       "<style scoped>\n",
       "    .dataframe tbody tr th:only-of-type {\n",
       "        vertical-align: middle;\n",
       "    }\n",
       "\n",
       "    .dataframe tbody tr th {\n",
       "        vertical-align: top;\n",
       "    }\n",
       "\n",
       "    .dataframe thead th {\n",
       "        text-align: right;\n",
       "    }\n",
       "</style>\n",
       "<table border=\"1\" class=\"dataframe\">\n",
       "  <thead>\n",
       "    <tr style=\"text-align: right;\">\n",
       "      <th></th>\n",
       "      <th>client_id</th>\n",
       "      <th>Profession</th>\n",
       "      <th>product_id_21.0</th>\n",
       "      <th>product_id_12.0</th>\n",
       "      <th>product_id_3.0</th>\n",
       "      <th>product_id_90.0</th>\n",
       "      <th>product_id_86.0</th>\n",
       "      <th>product_id_56.0</th>\n",
       "      <th>product_id_97.0</th>\n",
       "      <th>product_id_7.0</th>\n",
       "      <th>...</th>\n",
       "      <th>product_id_51.0</th>\n",
       "      <th>product_id_31.0</th>\n",
       "      <th>product_id_23.0</th>\n",
       "      <th>product_id_5.0</th>\n",
       "      <th>product_id_17.0</th>\n",
       "      <th>product_id_4.0</th>\n",
       "      <th>product_id_15.0</th>\n",
       "      <th>product_id_88.0</th>\n",
       "      <th>product_id_38.0</th>\n",
       "      <th>product_id_100.0</th>\n",
       "    </tr>\n",
       "  </thead>\n",
       "  <tbody>\n",
       "    <tr>\n",
       "      <th>0</th>\n",
       "      <td>0</td>\n",
       "      <td>3.0</td>\n",
       "      <td>0.0</td>\n",
       "      <td>0.0</td>\n",
       "      <td>0.0</td>\n",
       "      <td>0.0</td>\n",
       "      <td>0.0</td>\n",
       "      <td>0.0</td>\n",
       "      <td>1.0</td>\n",
       "      <td>0.0</td>\n",
       "      <td>...</td>\n",
       "      <td>0.0</td>\n",
       "      <td>0.0</td>\n",
       "      <td>0.0</td>\n",
       "      <td>0.0</td>\n",
       "      <td>0.0</td>\n",
       "      <td>0.0</td>\n",
       "      <td>0.0</td>\n",
       "      <td>0.0</td>\n",
       "      <td>0.0</td>\n",
       "      <td>0.0</td>\n",
       "    </tr>\n",
       "    <tr>\n",
       "      <th>1</th>\n",
       "      <td>1</td>\n",
       "      <td>3.0</td>\n",
       "      <td>0.0</td>\n",
       "      <td>0.0</td>\n",
       "      <td>0.0</td>\n",
       "      <td>0.0</td>\n",
       "      <td>0.0</td>\n",
       "      <td>0.0</td>\n",
       "      <td>0.0</td>\n",
       "      <td>0.0</td>\n",
       "      <td>...</td>\n",
       "      <td>0.0</td>\n",
       "      <td>0.0</td>\n",
       "      <td>0.0</td>\n",
       "      <td>0.0</td>\n",
       "      <td>0.0</td>\n",
       "      <td>0.0</td>\n",
       "      <td>0.0</td>\n",
       "      <td>0.0</td>\n",
       "      <td>0.0</td>\n",
       "      <td>1.0</td>\n",
       "    </tr>\n",
       "    <tr>\n",
       "      <th>2</th>\n",
       "      <td>2</td>\n",
       "      <td>1.0</td>\n",
       "      <td>0.0</td>\n",
       "      <td>0.0</td>\n",
       "      <td>0.0</td>\n",
       "      <td>0.0</td>\n",
       "      <td>0.0</td>\n",
       "      <td>0.0</td>\n",
       "      <td>0.0</td>\n",
       "      <td>0.0</td>\n",
       "      <td>...</td>\n",
       "      <td>0.0</td>\n",
       "      <td>0.0</td>\n",
       "      <td>0.0</td>\n",
       "      <td>0.0</td>\n",
       "      <td>0.0</td>\n",
       "      <td>0.0</td>\n",
       "      <td>0.0</td>\n",
       "      <td>0.0</td>\n",
       "      <td>0.0</td>\n",
       "      <td>0.0</td>\n",
       "    </tr>\n",
       "    <tr>\n",
       "      <th>3</th>\n",
       "      <td>3</td>\n",
       "      <td>1.0</td>\n",
       "      <td>0.0</td>\n",
       "      <td>0.0</td>\n",
       "      <td>0.0</td>\n",
       "      <td>1.0</td>\n",
       "      <td>0.0</td>\n",
       "      <td>0.0</td>\n",
       "      <td>0.0</td>\n",
       "      <td>0.0</td>\n",
       "      <td>...</td>\n",
       "      <td>0.0</td>\n",
       "      <td>0.0</td>\n",
       "      <td>0.0</td>\n",
       "      <td>0.0</td>\n",
       "      <td>0.0</td>\n",
       "      <td>0.0</td>\n",
       "      <td>0.0</td>\n",
       "      <td>0.0</td>\n",
       "      <td>0.0</td>\n",
       "      <td>1.0</td>\n",
       "    </tr>\n",
       "    <tr>\n",
       "      <th>4</th>\n",
       "      <td>8589934593</td>\n",
       "      <td>2.0</td>\n",
       "      <td>0.0</td>\n",
       "      <td>0.0</td>\n",
       "      <td>0.0</td>\n",
       "      <td>1.0</td>\n",
       "      <td>0.0</td>\n",
       "      <td>0.0</td>\n",
       "      <td>0.0</td>\n",
       "      <td>0.0</td>\n",
       "      <td>...</td>\n",
       "      <td>0.0</td>\n",
       "      <td>0.0</td>\n",
       "      <td>0.0</td>\n",
       "      <td>0.0</td>\n",
       "      <td>0.0</td>\n",
       "      <td>0.0</td>\n",
       "      <td>0.0</td>\n",
       "      <td>0.0</td>\n",
       "      <td>0.0</td>\n",
       "      <td>0.0</td>\n",
       "    </tr>\n",
       "  </tbody>\n",
       "</table>\n",
       "<p>5 rows × 103 columns</p>\n",
       "</div>"
      ],
      "text/plain": [
       "    client_id  Profession  product_id_21.0  product_id_12.0  product_id_3.0  \\\n",
       "0           0         3.0              0.0              0.0             0.0   \n",
       "1           1         3.0              0.0              0.0             0.0   \n",
       "2           2         1.0              0.0              0.0             0.0   \n",
       "3           3         1.0              0.0              0.0             0.0   \n",
       "4  8589934593         2.0              0.0              0.0             0.0   \n",
       "\n",
       "   product_id_90.0  product_id_86.0  product_id_56.0  product_id_97.0  \\\n",
       "0              0.0              0.0              0.0              1.0   \n",
       "1              0.0              0.0              0.0              0.0   \n",
       "2              0.0              0.0              0.0              0.0   \n",
       "3              1.0              0.0              0.0              0.0   \n",
       "4              1.0              0.0              0.0              0.0   \n",
       "\n",
       "   product_id_7.0  ...  product_id_51.0  product_id_31.0  product_id_23.0  \\\n",
       "0             0.0  ...              0.0              0.0              0.0   \n",
       "1             0.0  ...              0.0              0.0              0.0   \n",
       "2             0.0  ...              0.0              0.0              0.0   \n",
       "3             0.0  ...              0.0              0.0              0.0   \n",
       "4             0.0  ...              0.0              0.0              0.0   \n",
       "\n",
       "   product_id_5.0  product_id_17.0  product_id_4.0  product_id_15.0  \\\n",
       "0             0.0              0.0             0.0              0.0   \n",
       "1             0.0              0.0             0.0              0.0   \n",
       "2             0.0              0.0             0.0              0.0   \n",
       "3             0.0              0.0             0.0              0.0   \n",
       "4             0.0              0.0             0.0              0.0   \n",
       "\n",
       "   product_id_88.0  product_id_38.0  product_id_100.0  \n",
       "0              0.0              0.0               0.0  \n",
       "1              0.0              0.0               1.0  \n",
       "2              0.0              0.0               0.0  \n",
       "3              0.0              0.0               1.0  \n",
       "4              0.0              0.0               0.0  \n",
       "\n",
       "[5 rows x 103 columns]"
      ]
     },
     "execution_count": 10,
     "metadata": {},
     "output_type": "execute_result"
    }
   ],
   "source": [
    "data_to_use.head()"
   ]
  },
  {
   "cell_type": "code",
   "execution_count": 11,
   "id": "f6944453",
   "metadata": {},
   "outputs": [],
   "source": [
    "# trasform data to a 0/1 matrix\n",
    "columns= list(left_data.columns)[:-2]\n",
    "for col in columns:\n",
    "  data_to_use[col].values[data_to_use[col]>1]=1\n",
    "  null_professions[col].values[null_professions[col]>1]=1"
   ]
  },
  {
   "cell_type": "markdown",
   "id": "7b6a9f9c",
   "metadata": {},
   "source": [
    "# Maching learning"
   ]
  },
  {
   "cell_type": "markdown",
   "id": "8121d027",
   "metadata": {},
   "source": [
    "### Split data"
   ]
  },
  {
   "cell_type": "code",
   "execution_count": 21,
   "id": "3add98e3",
   "metadata": {},
   "outputs": [
    {
     "name": "stdout",
     "output_type": "stream",
     "text": [
      "No. of training_data examples: 3573\n",
      "No. of testing_data examples: 1191\n"
     ]
    }
   ],
   "source": [
    "data_to_use=data_to_use.drop(['client_id'],1)\n",
    "training_data=data_to_use.sample(frac=0.75,random_state=25)\n",
    "testing_data=data_to_use.drop(training_data.index)\n",
    "\n",
    "print(f\"No. of training_data examples: {training_data.shape[0]}\")\n",
    "print(f\"No. of testing_data examples: {testing_data.shape[0]}\")\n",
    "\n",
    "X_train=training_data.drop(['Profession'],1)\n",
    "y_train= training_data['Profession']\n",
    "\n",
    "X_test=testing_data.drop(['Profession'],1)\n",
    "y_test=testing_data['Profession']"
   ]
  },
  {
   "cell_type": "markdown",
   "id": "33cd17c4",
   "metadata": {},
   "source": [
    "### Check if data is balanced"
   ]
  },
  {
   "cell_type": "code",
   "execution_count": 22,
   "id": "ee44d6c5",
   "metadata": {},
   "outputs": [
    {
     "data": {
      "text/plain": [
       "1.0    1717\n",
       "3.0     598\n",
       "2.0     574\n",
       "4.0     401\n",
       "5.0     283\n",
       "Name: Profession, dtype: int64"
      ]
     },
     "execution_count": 22,
     "metadata": {},
     "output_type": "execute_result"
    }
   ],
   "source": [
    "(training_data['Profession']).value_counts()"
   ]
  },
  {
   "cell_type": "code",
   "execution_count": 23,
   "id": "e7c4616e",
   "metadata": {},
   "outputs": [
    {
     "data": {
      "text/plain": [
       "<AxesSubplot:ylabel='Profession'>"
      ]
     },
     "execution_count": 23,
     "metadata": {},
     "output_type": "execute_result"
    },
    {
     "data": {
      "image/png": "[encoded data removed]",
      "text/plain": [
       "<Figure size 432x288 with 1 Axes>"
      ]
     },
     "metadata": {},
     "output_type": "display_data"
    }
   ],
   "source": [
    "(training_data['Profession']).value_counts().plot.pie(autopct=\"%.2f\")"
   ]
  },
  {
   "cell_type": "markdown",
   "id": "33b879d0",
   "metadata": {},
   "source": [
    "The data seems to be imbalanced, let's try and balance the training data to see if it will give better results."
   ]
  },
  {
   "cell_type": "code",
   "execution_count": 26,
   "id": "678d7762",
   "metadata": {},
   "outputs": [
    {
     "data": {
      "text/plain": [
       "(5317, 102)"
      ]
     },
     "execution_count": 26,
     "metadata": {},
     "output_type": "execute_result"
    }
   ],
   "source": [
    "from sklearn.utils import resample\n",
    "\n",
    "df_minority3=training_data.loc[training_data['Profession']==3]\n",
    "df_minority4=training_data.loc[training_data['Profession']==4]\n",
    "df_minority5=training_data.loc[training_data['Profession']==5]\n",
    "df_minority2=training_data.loc[training_data['Profession']==2]\n",
    "df_majority=training_data[training_data['Profession']==1]\n",
    "\n",
    "df_minority3_up=resample(df_minority3,replace=True,n_samples=950,random_state=42)\n",
    "df_minority4_up=resample(df_minority4,replace=True,n_samples=900,random_state=42)\n",
    "df_minority5_up=resample(df_minority5,replace=True,n_samples=800,random_state=42)\n",
    "df_minority2_up=resample(df_minority2,replace=True,n_samples=950,random_state=42)\n",
    "df_majority_down=resample(df_majority,replace=False,n_samples=1400,random_state=42)\n",
    "data_balanced= pd.concat([df_minority2_up,df_minority3_up,df_minority4_up,df_minority5_up,df_majority], ignore_index=True)\n",
    "data_balanced.shape"
   ]
  },
  {
   "cell_type": "code",
   "execution_count": 28,
   "id": "14bcc687",
   "metadata": {},
   "outputs": [
    {
     "data": {
      "text/plain": [
       "<AxesSubplot:ylabel='Profession'>"
      ]
     },
     "execution_count": 28,
     "metadata": {},
     "output_type": "execute_result"
    },
    {
     "data": {
      "image/png": "[encoded data removed]",
      "text/plain": [
       "<Figure size 432x288 with 1 Axes>"
      ]
     },
     "metadata": {},
     "output_type": "display_data"
    }
   ],
   "source": [
    "(data_balanced['Profession']).value_counts().plot.pie(autopct=\"%.2f\")"
   ]
  },
  {
   "cell_type": "code",
   "execution_count": 29,
   "id": "0504ebbc",
   "metadata": {},
   "outputs": [],
   "source": [
    "# we'll use same test data\n",
    "X_trainB=data_balanced.drop(['Profession'],1)\n",
    "y_trainB=data_balanced['Profession']"
   ]
  },
  {
   "cell_type": "markdown",
   "id": "68edaba1",
   "metadata": {},
   "source": [
    "Now we'll excute our first model for the balanced and imbalenced data and see which is better to use. "
   ]
  },
  {
   "cell_type": "markdown",
   "id": "39609155",
   "metadata": {},
   "source": [
    "### SVM"
   ]
  },
  {
   "cell_type": "code",
   "execution_count": 30,
   "id": "b1641712",
   "metadata": {},
   "outputs": [
    {
     "name": "stdout",
     "output_type": "stream",
     "text": [
      "0.6028547439126785\n",
      "\n",
      "\n",
      "[[521  14  25   8   8]\n",
      " [117  40  18   8   2]\n",
      " [ 66  16 109   6   2]\n",
      " [105   3   6  23   1]\n",
      " [ 57   6   1   4  25]]\n"
     ]
    }
   ],
   "source": [
    "from sklearn.svm import LinearSVC\n",
    "from sklearn.svm import SVC\n",
    "from sklearn.metrics import accuracy_score\n",
    "from sklearn.metrics import confusion_matrix\n",
    "\n",
    "lin_clf = LinearSVC(random_state=42)\n",
    "lin_clf.fit(X_train, y_train)\n",
    "y_pred = lin_clf.predict(X_test)\n",
    "print(accuracy_score(y_test, y_pred))\n",
    "print('\\n')\n",
    "print(confusion_matrix(y_test, y_pred))"
   ]
  },
  {
   "cell_type": "code",
   "execution_count": 32,
   "id": "a2a72b20",
   "metadata": {},
   "outputs": [
    {
     "name": "stdout",
     "output_type": "stream",
     "text": [
      "0.5608732157850546\n",
      "\n",
      "\n",
      "[[393  30  46  54  53]\n",
      " [ 72  55  16  27  15]\n",
      " [ 42  18 115  15   9]\n",
      " [ 58   7   8  60   5]\n",
      " [ 27   2   4  15  45]]\n"
     ]
    }
   ],
   "source": [
    "# with balanced training data\n",
    "lin_clf = LinearSVC(random_state=42)\n",
    "lin_clf.fit(X_trainB, y_trainB)\n",
    "y_pred1 = lin_clf.predict(X_test)\n",
    "print(accuracy_score(y_test, y_pred1))\n",
    "print('\\n')\n",
    "print(confusion_matrix(y_test, y_pred1))"
   ]
  },
  {
   "cell_type": "markdown",
   "id": "29e009f0",
   "metadata": {},
   "source": [
    "well well, i was expecting the labels with less observations to be totaly miss predicted, but this svm seems to be quite good too!\n",
    "\n",
    "Now let's see if the results will improve once we use balanced data train"
   ]
  },
  {
   "cell_type": "markdown",
   "id": "27dd6863",
   "metadata": {},
   "source": [
    "I guess we should use other metrics to compare..."
   ]
  },
  {
   "cell_type": "code",
   "execution_count": 33,
   "id": "3386fbba",
   "metadata": {},
   "outputs": [],
   "source": [
    "import seaborn as sn\n",
    "import pandas as pd\n",
    "import matplotlib.pyplot as plt\n",
    "from sklearn import metrics\n",
    "\n",
    "labels=['Menuisier','Platrier','Maçon','Plombier','Couvreur']\n",
    "\n",
    "def metrics_mesures(y_true,predictions):\n",
    "  print('Accuracy:', metrics.accuracy_score(y_true,predictions))\n",
    "  print('F1 score:', metrics.f1_score(y_true, predictions,average='micro'))\n",
    "  print('Recall:', metrics.recall_score(y_true, predictions,average='micro'))\n",
    "  print('Precision:', metrics.precision_score(y_true, predictions,average='micro'))\n",
    "  print(\"\\n\")\n",
    "  cm=metrics.confusion_matrix(y_true, predictions)\n",
    "  df_cm = pd.DataFrame(cm, labels, labels)\n",
    "  # plt.figure(figsize=(10,7))\n",
    "  sn.set(font_scale=1.4) # for label size\n",
    "  sn.heatmap(df_cm, annot=True, annot_kws={\"size\": 18}) # font size\n",
    "  plt.show()"
   ]
  },
  {
   "cell_type": "markdown",
   "id": "2036e9e4",
   "metadata": {},
   "source": [
    "Case of imbalanced data training:"
   ]
  },
  {
   "cell_type": "code",
   "execution_count": 34,
   "id": "a9e938fa",
   "metadata": {},
   "outputs": [
    {
     "name": "stdout",
     "output_type": "stream",
     "text": [
      "Accuracy: 0.6028547439126785\n",
      "F1 score: 0.6028547439126785\n",
      "Recall: 0.6028547439126785\n",
      "Precision: 0.6028547439126785\n",
      "\n",
      "\n"
     ]
    },
    {
     "data": {
      "image/png": "[encoded data removed]",
      "text/plain": [
       "<Figure size 432x288 with 2 Axes>"
      ]
     },
     "metadata": {},
     "output_type": "display_data"
    }
   ],
   "source": [
    "metrics_mesures(y_test,y_pred)"
   ]
  },
  {
   "cell_type": "code",
   "execution_count": 35,
   "id": "3a5f43b7",
   "metadata": {},
   "outputs": [
    {
     "name": "stdout",
     "output_type": "stream",
     "text": [
      "Accuracy: 0.5608732157850546\n",
      "F1 score: 0.5608732157850546\n",
      "Recall: 0.5608732157850546\n",
      "Precision: 0.5608732157850546\n",
      "\n",
      "\n"
     ]
    },
    {
     "data": {
      "image/png": "[encoded data removed]",
      "text/plain": [
       "<Figure size 432x288 with 2 Axes>"
      ]
     },
     "metadata": {},
     "output_type": "display_data"
    }
   ],
   "source": [
    "metrics_mesures(y_test,y_pred1)"
   ]
  },
  {
   "cell_type": "markdown",
   "id": "1c95722b",
   "metadata": {},
   "source": [
    "Looking to the accuracy, we can say that working with training data as it is, the first classifier is more capable of correctly predict new data.\n",
    "\n",
    "the first classier is also better in term of precision (proportion predictions that where actually correct).\n",
    "In term of recall the first classfier is still better (proportion of actual labels that where identified correctly). The f1-score is about the same. \n",
    "\n",
    "looking to the confusion matrix, we can see that with balanced data, we predict well the labels with few observations, but we loose in term of predictions of the classe 1."
   ]
  },
  {
   "cell_type": "code",
   "execution_count": 36,
   "id": "df57a78d",
   "metadata": {},
   "outputs": [],
   "source": [
    "# polynomial svm\n",
    "poly_clf=SVC(C=1,kernel='poly',degree=2)\n",
    "poly_clf.fit(X_train,y_train)\n",
    "y_pred =poly_clf.predict(X_test)\n",
    "# rbf svm\n",
    "clf_rbf=SVC(C=1,kernel='rbf',gamma=2)\n",
    "clf_rbf.fit(X_train,y_train)\n",
    "y_pred1 =clf_rbf.predict(X_test)"
   ]
  },
  {
   "cell_type": "code",
   "execution_count": 37,
   "id": "806e975f",
   "metadata": {},
   "outputs": [
    {
     "name": "stdout",
     "output_type": "stream",
     "text": [
      "Accuracy: 0.5785054575986566\n",
      "F1 score: 0.5785054575986566\n",
      "Recall: 0.5785054575986566\n",
      "Precision: 0.5785054575986566\n",
      "\n",
      "\n"
     ]
    },
    {
     "data": {
      "image/png": "[encoded data removed]",
      "text/plain": [
       "<Figure size 432x288 with 2 Axes>"
      ]
     },
     "metadata": {},
     "output_type": "display_data"
    }
   ],
   "source": [
    "metrics_mesures(y_test,y_pred)"
   ]
  },
  {
   "cell_type": "code",
   "execution_count": 38,
   "id": "e8389a2e",
   "metadata": {},
   "outputs": [
    {
     "name": "stdout",
     "output_type": "stream",
     "text": [
      "Accuracy: 0.47774979009235935\n",
      "F1 score: 0.47774979009235935\n",
      "Recall: 0.47774979009235935\n",
      "Precision: 0.47774979009235935\n",
      "\n",
      "\n"
     ]
    },
    {
     "data": {
      "image/png": "[encoded data removed]",
      "text/plain": [
       "<Figure size 432x288 with 2 Axes>"
      ]
     },
     "metadata": {},
     "output_type": "display_data"
    }
   ],
   "source": [
    "metrics_mesures(y_test,y_pred1)"
   ]
  },
  {
   "cell_type": "markdown",
   "id": "d8fc9b32",
   "metadata": {},
   "source": [
    "Looking to the metrics, linear svm is more performant. "
   ]
  },
  {
   "cell_type": "markdown",
   "id": "9bbf82b8",
   "metadata": {},
   "source": [
    "### Random Forest"
   ]
  },
  {
   "cell_type": "code",
   "execution_count": 43,
   "id": "1e667fc7",
   "metadata": {},
   "outputs": [],
   "source": [
    "from sklearn.ensemble import RandomForestClassifier\n",
    "from sklearn.model_selection import RandomizedSearchCV, GridSearchCV\n",
    "from sklearn import metrics\n",
    "\n",
    "def f1(model,x,y):\n",
    "    return metrics.f1_score(y, model.predict(x),average='micro')"
   ]
  },
  {
   "cell_type": "code",
   "execution_count": 44,
   "id": "40123846",
   "metadata": {},
   "outputs": [],
   "source": [
    "## tuning with RandomizeSearchCV\n",
    "\n",
    "n_estimators=[100,500,1000]\n",
    "criterion=['gini','entropy']\n",
    "max_depth=[20,40,60,100]\n",
    "max_feature=['sqrt','log2']\n",
    "\n",
    "param_grid={\n",
    "    'n_estimators':n_estimators,\n",
    "    'criterion':criterion,\n",
    "    'max_depth':max_depth,\n",
    "    'max_features':max_feature\n",
    "    \n",
    "}\n",
    "\n",
    "Randomiz_rf=RandomizedSearchCV(estimator=RandomForestClassifier(),param_distributions=param_grid,n_iter=50,cv=3,scoring=f1,return_train_score=True,verbose=2)"
   ]
  },
  {
   "cell_type": "code",
   "execution_count": 45,
   "id": "085acb8e",
   "metadata": {},
   "outputs": [
    {
     "name": "stderr",
     "output_type": "stream",
     "text": [
      "/home/euclide03/anaconda3/lib/python3.8/site-packages/sklearn/model_selection/_search.py:285: UserWarning: The total space of parameters 48 is smaller than n_iter=50. Running 48 iterations. For exhaustive searches, use GridSearchCV.\n",
      "  warnings.warn(\n"
     ]
    },
    {
     "name": "stdout",
     "output_type": "stream",
     "text": [
      "Fitting 3 folds for each of 48 candidates, totalling 144 fits\n",
      "[CV] END criterion=gini, max_depth=20, max_features=sqrt, n_estimators=100; total time=   0.6s\n",
      "[CV] END criterion=gini, max_depth=20, max_features=sqrt, n_estimators=100; total time=   0.6s\n",
      "[CV] END criterion=gini, max_depth=20, max_features=sqrt, n_estimators=100; total time=   0.6s\n",
      "[CV] END criterion=gini, max_depth=20, max_features=sqrt, n_estimators=500; total time=   2.5s\n",
      "[CV] END criterion=gini, max_depth=20, max_features=sqrt, n_estimators=500; total time=   2.0s\n",
      "[CV] END criterion=gini, max_depth=20, max_features=sqrt, n_estimators=500; total time=   1.5s\n",
      "[CV] END criterion=gini, max_depth=20, max_features=sqrt, n_estimators=1000; total time=   3.2s\n",
      "[CV] END criterion=gini, max_depth=20, max_features=sqrt, n_estimators=1000; total time=   4.5s\n",
      "[CV] END criterion=gini, max_depth=20, max_features=sqrt, n_estimators=1000; total time=   5.2s\n",
      "[CV] END criterion=gini, max_depth=20, max_features=log2, n_estimators=100; total time=   0.5s\n",
      "[CV] END criterion=gini, max_depth=20, max_features=log2, n_estimators=100; total time=   0.5s\n",
      "[CV] END criterion=gini, max_depth=20, max_features=log2, n_estimators=100; total time=   0.5s\n",
      "[CV] END criterion=gini, max_depth=20, max_features=log2, n_estimators=500; total time=   2.3s\n",
      "[CV] END criterion=gini, max_depth=20, max_features=log2, n_estimators=500; total time=   2.6s\n",
      "[CV] END criterion=gini, max_depth=20, max_features=log2, n_estimators=500; total time=   2.6s\n",
      "[CV] END criterion=gini, max_depth=20, max_features=log2, n_estimators=1000; total time=   4.7s\n",
      "[CV] END criterion=gini, max_depth=20, max_features=log2, n_estimators=1000; total time=   5.0s\n",
      "[CV] END criterion=gini, max_depth=20, max_features=log2, n_estimators=1000; total time=   5.3s\n",
      "[CV] END criterion=gini, max_depth=40, max_features=sqrt, n_estimators=100; total time=   0.6s\n",
      "[CV] END criterion=gini, max_depth=40, max_features=sqrt, n_estimators=100; total time=   0.7s\n",
      "[CV] END criterion=gini, max_depth=40, max_features=sqrt, n_estimators=100; total time=   0.8s\n",
      "[CV] END criterion=gini, max_depth=40, max_features=sqrt, n_estimators=500; total time=   3.5s\n",
      "[CV] END criterion=gini, max_depth=40, max_features=sqrt, n_estimators=500; total time=   2.1s\n",
      "[CV] END criterion=gini, max_depth=40, max_features=sqrt, n_estimators=500; total time=   2.9s\n",
      "[CV] END criterion=gini, max_depth=40, max_features=sqrt, n_estimators=1000; total time=   6.3s\n",
      "[CV] END criterion=gini, max_depth=40, max_features=sqrt, n_estimators=1000; total time=   3.9s\n",
      "[CV] END criterion=gini, max_depth=40, max_features=sqrt, n_estimators=1000; total time=   3.9s\n",
      "[CV] END criterion=gini, max_depth=40, max_features=log2, n_estimators=100; total time=   0.3s\n",
      "[CV] END criterion=gini, max_depth=40, max_features=log2, n_estimators=100; total time=   0.3s\n",
      "[CV] END criterion=gini, max_depth=40, max_features=log2, n_estimators=100; total time=   0.3s\n",
      "[CV] END criterion=gini, max_depth=40, max_features=log2, n_estimators=500; total time=   1.7s\n",
      "[CV] END criterion=gini, max_depth=40, max_features=log2, n_estimators=500; total time=   1.6s\n",
      "[CV] END criterion=gini, max_depth=40, max_features=log2, n_estimators=500; total time=   1.6s\n",
      "[CV] END criterion=gini, max_depth=40, max_features=log2, n_estimators=1000; total time=   3.2s\n",
      "[CV] END criterion=gini, max_depth=40, max_features=log2, n_estimators=1000; total time=   3.3s\n",
      "[CV] END criterion=gini, max_depth=40, max_features=log2, n_estimators=1000; total time=   3.1s\n",
      "[CV] END criterion=gini, max_depth=60, max_features=sqrt, n_estimators=100; total time=   0.4s\n",
      "[CV] END criterion=gini, max_depth=60, max_features=sqrt, n_estimators=100; total time=   0.4s\n",
      "[CV] END criterion=gini, max_depth=60, max_features=sqrt, n_estimators=100; total time=   0.4s\n",
      "[CV] END criterion=gini, max_depth=60, max_features=sqrt, n_estimators=500; total time=   2.0s\n",
      "[CV] END criterion=gini, max_depth=60, max_features=sqrt, n_estimators=500; total time=   2.9s\n",
      "[CV] END criterion=gini, max_depth=60, max_features=sqrt, n_estimators=500; total time=   3.6s\n",
      "[CV] END criterion=gini, max_depth=60, max_features=sqrt, n_estimators=1000; total time=   5.9s\n",
      "[CV] END criterion=gini, max_depth=60, max_features=sqrt, n_estimators=1000; total time=   6.7s\n",
      "[CV] END criterion=gini, max_depth=60, max_features=sqrt, n_estimators=1000; total time=   4.5s\n",
      "[CV] END criterion=gini, max_depth=60, max_features=log2, n_estimators=100; total time=   0.4s\n",
      "[CV] END criterion=gini, max_depth=60, max_features=log2, n_estimators=100; total time=   0.4s\n",
      "[CV] END criterion=gini, max_depth=60, max_features=log2, n_estimators=100; total time=   0.4s\n",
      "[CV] END criterion=gini, max_depth=60, max_features=log2, n_estimators=500; total time=   1.7s\n",
      "[CV] END criterion=gini, max_depth=60, max_features=log2, n_estimators=500; total time=   1.7s\n",
      "[CV] END criterion=gini, max_depth=60, max_features=log2, n_estimators=500; total time=   1.7s\n",
      "[CV] END criterion=gini, max_depth=60, max_features=log2, n_estimators=1000; total time=   3.4s\n",
      "[CV] END criterion=gini, max_depth=60, max_features=log2, n_estimators=1000; total time=   4.3s\n",
      "[CV] END criterion=gini, max_depth=60, max_features=log2, n_estimators=1000; total time=   3.7s\n",
      "[CV] END criterion=gini, max_depth=100, max_features=sqrt, n_estimators=100; total time=   0.4s\n",
      "[CV] END criterion=gini, max_depth=100, max_features=sqrt, n_estimators=100; total time=   0.6s\n",
      "[CV] END criterion=gini, max_depth=100, max_features=sqrt, n_estimators=100; total time=   0.4s\n",
      "[CV] END criterion=gini, max_depth=100, max_features=sqrt, n_estimators=500; total time=   2.2s\n",
      "[CV] END criterion=gini, max_depth=100, max_features=sqrt, n_estimators=500; total time=   2.0s\n",
      "[CV] END criterion=gini, max_depth=100, max_features=sqrt, n_estimators=500; total time=   2.2s\n",
      "[CV] END criterion=gini, max_depth=100, max_features=sqrt, n_estimators=1000; total time=   4.1s\n",
      "[CV] END criterion=gini, max_depth=100, max_features=sqrt, n_estimators=1000; total time=   4.2s\n",
      "[CV] END criterion=gini, max_depth=100, max_features=sqrt, n_estimators=1000; total time=   4.0s\n",
      "[CV] END criterion=gini, max_depth=100, max_features=log2, n_estimators=100; total time=   0.4s\n",
      "[CV] END criterion=gini, max_depth=100, max_features=log2, n_estimators=100; total time=   0.4s\n",
      "[CV] END criterion=gini, max_depth=100, max_features=log2, n_estimators=100; total time=   0.5s\n",
      "[CV] END criterion=gini, max_depth=100, max_features=log2, n_estimators=500; total time=   2.2s\n",
      "[CV] END criterion=gini, max_depth=100, max_features=log2, n_estimators=500; total time=   1.7s\n",
      "[CV] END criterion=gini, max_depth=100, max_features=log2, n_estimators=500; total time=   1.7s\n",
      "[CV] END criterion=gini, max_depth=100, max_features=log2, n_estimators=1000; total time=   3.5s\n",
      "[CV] END criterion=gini, max_depth=100, max_features=log2, n_estimators=1000; total time=   3.4s\n",
      "[CV] END criterion=gini, max_depth=100, max_features=log2, n_estimators=1000; total time=   4.3s\n",
      "[CV] END criterion=entropy, max_depth=20, max_features=sqrt, n_estimators=100; total time=   0.6s\n",
      "[CV] END criterion=entropy, max_depth=20, max_features=sqrt, n_estimators=100; total time=   0.5s\n",
      "[CV] END criterion=entropy, max_depth=20, max_features=sqrt, n_estimators=100; total time=   0.4s\n",
      "[CV] END criterion=entropy, max_depth=20, max_features=sqrt, n_estimators=500; total time=   1.6s\n",
      "[CV] END criterion=entropy, max_depth=20, max_features=sqrt, n_estimators=500; total time=   1.6s\n",
      "[CV] END criterion=entropy, max_depth=20, max_features=sqrt, n_estimators=500; total time=   1.6s\n",
      "[CV] END criterion=entropy, max_depth=20, max_features=sqrt, n_estimators=1000; total time=   3.2s\n",
      "[CV] END criterion=entropy, max_depth=20, max_features=sqrt, n_estimators=1000; total time=   3.4s\n",
      "[CV] END criterion=entropy, max_depth=20, max_features=sqrt, n_estimators=1000; total time=   3.2s\n",
      "[CV] END criterion=entropy, max_depth=20, max_features=log2, n_estimators=100; total time=   0.3s\n",
      "[CV] END criterion=entropy, max_depth=20, max_features=log2, n_estimators=100; total time=   0.3s\n",
      "[CV] END criterion=entropy, max_depth=20, max_features=log2, n_estimators=100; total time=   0.3s\n",
      "[CV] END criterion=entropy, max_depth=20, max_features=log2, n_estimators=500; total time=   1.4s\n"
     ]
    },
    {
     "name": "stdout",
     "output_type": "stream",
     "text": [
      "[CV] END criterion=entropy, max_depth=20, max_features=log2, n_estimators=500; total time=   1.4s\n",
      "[CV] END criterion=entropy, max_depth=20, max_features=log2, n_estimators=500; total time=   1.4s\n",
      "[CV] END criterion=entropy, max_depth=20, max_features=log2, n_estimators=1000; total time=   4.5s\n",
      "[CV] END criterion=entropy, max_depth=20, max_features=log2, n_estimators=1000; total time=   4.7s\n",
      "[CV] END criterion=entropy, max_depth=20, max_features=log2, n_estimators=1000; total time=   4.2s\n",
      "[CV] END criterion=entropy, max_depth=40, max_features=sqrt, n_estimators=100; total time=   0.6s\n",
      "[CV] END criterion=entropy, max_depth=40, max_features=sqrt, n_estimators=100; total time=   0.7s\n",
      "[CV] END criterion=entropy, max_depth=40, max_features=sqrt, n_estimators=100; total time=   0.7s\n",
      "[CV] END criterion=entropy, max_depth=40, max_features=sqrt, n_estimators=500; total time=   3.5s\n",
      "[CV] END criterion=entropy, max_depth=40, max_features=sqrt, n_estimators=500; total time=   3.4s\n",
      "[CV] END criterion=entropy, max_depth=40, max_features=sqrt, n_estimators=500; total time=   3.5s\n",
      "[CV] END criterion=entropy, max_depth=40, max_features=sqrt, n_estimators=1000; total time=   6.8s\n",
      "[CV] END criterion=entropy, max_depth=40, max_features=sqrt, n_estimators=1000; total time=   5.0s\n",
      "[CV] END criterion=entropy, max_depth=40, max_features=sqrt, n_estimators=1000; total time=   4.1s\n",
      "[CV] END criterion=entropy, max_depth=40, max_features=log2, n_estimators=100; total time=   0.5s\n",
      "[CV] END criterion=entropy, max_depth=40, max_features=log2, n_estimators=100; total time=   0.6s\n",
      "[CV] END criterion=entropy, max_depth=40, max_features=log2, n_estimators=100; total time=   0.6s\n",
      "[CV] END criterion=entropy, max_depth=40, max_features=log2, n_estimators=500; total time=   2.6s\n",
      "[CV] END criterion=entropy, max_depth=40, max_features=log2, n_estimators=500; total time=   2.9s\n",
      "[CV] END criterion=entropy, max_depth=40, max_features=log2, n_estimators=500; total time=   3.4s\n",
      "[CV] END criterion=entropy, max_depth=40, max_features=log2, n_estimators=1000; total time=   8.5s\n",
      "[CV] END criterion=entropy, max_depth=40, max_features=log2, n_estimators=1000; total time=   5.9s\n",
      "[CV] END criterion=entropy, max_depth=40, max_features=log2, n_estimators=1000; total time=   5.9s\n",
      "[CV] END criterion=entropy, max_depth=60, max_features=sqrt, n_estimators=100; total time=   0.6s\n",
      "[CV] END criterion=entropy, max_depth=60, max_features=sqrt, n_estimators=100; total time=   0.7s\n",
      "[CV] END criterion=entropy, max_depth=60, max_features=sqrt, n_estimators=100; total time=   0.7s\n",
      "[CV] END criterion=entropy, max_depth=60, max_features=sqrt, n_estimators=500; total time=   3.8s\n",
      "[CV] END criterion=entropy, max_depth=60, max_features=sqrt, n_estimators=500; total time=   2.6s\n",
      "[CV] END criterion=entropy, max_depth=60, max_features=sqrt, n_estimators=500; total time=   2.1s\n",
      "[CV] END criterion=entropy, max_depth=60, max_features=sqrt, n_estimators=1000; total time=   4.3s\n",
      "[CV] END criterion=entropy, max_depth=60, max_features=sqrt, n_estimators=1000; total time=   6.6s\n",
      "[CV] END criterion=entropy, max_depth=60, max_features=sqrt, n_estimators=1000; total time=  10.5s\n",
      "[CV] END criterion=entropy, max_depth=60, max_features=log2, n_estimators=100; total time=   1.2s\n",
      "[CV] END criterion=entropy, max_depth=60, max_features=log2, n_estimators=100; total time=   0.9s\n",
      "[CV] END criterion=entropy, max_depth=60, max_features=log2, n_estimators=100; total time=   1.0s\n",
      "[CV] END criterion=entropy, max_depth=60, max_features=log2, n_estimators=500; total time=   4.8s\n",
      "[CV] END criterion=entropy, max_depth=60, max_features=log2, n_estimators=500; total time=   4.7s\n",
      "[CV] END criterion=entropy, max_depth=60, max_features=log2, n_estimators=500; total time=   3.4s\n",
      "[CV] END criterion=entropy, max_depth=60, max_features=log2, n_estimators=1000; total time=   7.4s\n",
      "[CV] END criterion=entropy, max_depth=60, max_features=log2, n_estimators=1000; total time=   6.7s\n",
      "[CV] END criterion=entropy, max_depth=60, max_features=log2, n_estimators=1000; total time=   6.5s\n",
      "[CV] END criterion=entropy, max_depth=100, max_features=sqrt, n_estimators=100; total time=   0.5s\n",
      "[CV] END criterion=entropy, max_depth=100, max_features=sqrt, n_estimators=100; total time=   0.4s\n",
      "[CV] END criterion=entropy, max_depth=100, max_features=sqrt, n_estimators=100; total time=   0.5s\n",
      "[CV] END criterion=entropy, max_depth=100, max_features=sqrt, n_estimators=500; total time=   2.2s\n",
      "[CV] END criterion=entropy, max_depth=100, max_features=sqrt, n_estimators=500; total time=   2.3s\n",
      "[CV] END criterion=entropy, max_depth=100, max_features=sqrt, n_estimators=500; total time=   2.1s\n",
      "[CV] END criterion=entropy, max_depth=100, max_features=sqrt, n_estimators=1000; total time=   4.3s\n",
      "[CV] END criterion=entropy, max_depth=100, max_features=sqrt, n_estimators=1000; total time=   4.3s\n",
      "[CV] END criterion=entropy, max_depth=100, max_features=sqrt, n_estimators=1000; total time=   4.5s\n",
      "[CV] END criterion=entropy, max_depth=100, max_features=log2, n_estimators=100; total time=   0.4s\n",
      "[CV] END criterion=entropy, max_depth=100, max_features=log2, n_estimators=100; total time=   0.4s\n",
      "[CV] END criterion=entropy, max_depth=100, max_features=log2, n_estimators=100; total time=   0.4s\n",
      "[CV] END criterion=entropy, max_depth=100, max_features=log2, n_estimators=500; total time=   1.8s\n",
      "[CV] END criterion=entropy, max_depth=100, max_features=log2, n_estimators=500; total time=   1.9s\n",
      "[CV] END criterion=entropy, max_depth=100, max_features=log2, n_estimators=500; total time=   2.0s\n",
      "[CV] END criterion=entropy, max_depth=100, max_features=log2, n_estimators=1000; total time=   6.9s\n",
      "[CV] END criterion=entropy, max_depth=100, max_features=log2, n_estimators=1000; total time=   7.4s\n",
      "[CV] END criterion=entropy, max_depth=100, max_features=log2, n_estimators=1000; total time=   8.8s\n"
     ]
    },
    {
     "data": {
      "text/plain": [
       "RandomizedSearchCV(cv=3, estimator=RandomForestClassifier(), n_iter=50,\n",
       "                   param_distributions={'criterion': ['gini', 'entropy'],\n",
       "                                        'max_depth': [20, 40, 60, 100],\n",
       "                                        'max_features': ['sqrt', 'log2'],\n",
       "                                        'n_estimators': [100, 500, 1000]},\n",
       "                   return_train_score=True,\n",
       "                   scoring=<function f1 at 0x7fc6bfcb0820>, verbose=2)"
      ]
     },
     "execution_count": 45,
     "metadata": {},
     "output_type": "execute_result"
    }
   ],
   "source": [
    "Randomiz_rf.fit(X_train,y_train)"
   ]
  },
  {
   "cell_type": "code",
   "execution_count": 46,
   "id": "a6a36b56",
   "metadata": {},
   "outputs": [
    {
     "name": "stdout",
     "output_type": "stream",
     "text": [
      "{'n_estimators': 1000, 'max_features': 'sqrt', 'max_depth': 20, 'criterion': 'gini'}\n",
      "RandomForestClassifier(max_depth=20, max_features='sqrt', n_estimators=1000)\n"
     ]
    }
   ],
   "source": [
    "print(Randomiz_rf.best_params_)\n",
    "print(Randomiz_rf.best_estimator_)"
   ]
  },
  {
   "cell_type": "code",
   "execution_count": 47,
   "id": "acfb980e",
   "metadata": {},
   "outputs": [],
   "source": [
    "random_rf=RandomForestClassifier(criterion='gini',max_depth=20, max_features='sqrt', n_estimators=1000)\n",
    "random_rf.fit(X_train,y_train)\n",
    "y_random=random_rf.predict(X_test)"
   ]
  },
  {
   "cell_type": "code",
   "execution_count": 48,
   "id": "727da7b2",
   "metadata": {},
   "outputs": [
    {
     "name": "stdout",
     "output_type": "stream",
     "text": [
      "Accuracy: 0.5759865659109992\n",
      "F1 score: 0.5759865659109992\n",
      "Recall: 0.5759865659109992\n",
      "Precision: 0.5759865659109992\n",
      "\n",
      "\n"
     ]
    },
    {
     "data": {
      "image/png": "[encoded data removed]",
      "text/plain": [
       "<Figure size 432x288 with 2 Axes>"
      ]
     },
     "metadata": {},
     "output_type": "display_data"
    }
   ],
   "source": [
    "# normaly RandomForest handle imbalanced data\n",
    "metrics_mesures(y_test,y_random)"
   ]
  },
  {
   "cell_type": "code",
   "execution_count": 55,
   "id": "fa941cf8",
   "metadata": {},
   "outputs": [
    {
     "name": "stdout",
     "output_type": "stream",
     "text": [
      "Accuracy: 0.5659109991603695\n",
      "F1 score: 0.5659109991603695\n",
      "Recall: 0.5659109991603695\n",
      "Precision: 0.5659109991603695\n",
      "\n",
      "\n"
     ]
    },
    {
     "data": {
      "image/png": "[encoded data removed]",
      "text/plain": [
       "<Figure size 432x288 with 2 Axes>"
      ]
     },
     "metadata": {},
     "output_type": "display_data"
    }
   ],
   "source": [
    "random_rf=RandomForestClassifier(criterion='gini',max_depth=20, max_features='sqrt', n_estimators=1000)\n",
    "random_rf.fit(X_trainB,y_trainB)\n",
    "y_randomB=random_rf.predict(X_test)\n",
    "metrics_mesures(y_test,y_randomB)"
   ]
  },
  {
   "cell_type": "code",
   "execution_count": 52,
   "id": "8e487926",
   "metadata": {},
   "outputs": [],
   "source": [
    "# GridSearchCV\n",
    "param_grid={'criterion': ['gini'],\n",
    " 'max_depth': [20,30,40],\n",
    " 'max_features': ['sqrt'],\n",
    " 'n_estimators': [900,1000,1100]}\n",
    "\n",
    "Grid_search_rf=GridSearchCV(estimator=RandomForestClassifier(),param_grid=param_grid,cv=3,scoring=f1,return_train_score=True,verbose=4)"
   ]
  },
  {
   "cell_type": "code",
   "execution_count": 53,
   "id": "177ebecc",
   "metadata": {},
   "outputs": [
    {
     "name": "stdout",
     "output_type": "stream",
     "text": [
      "Fitting 3 folds for each of 9 candidates, totalling 27 fits\n",
      "[CV 1/3] END criterion=gini, max_depth=20, max_features=sqrt, n_estimators=900; total time=   5.3s\n",
      "[CV 2/3] END criterion=gini, max_depth=20, max_features=sqrt, n_estimators=900; total time=   4.8s\n",
      "[CV 3/3] END criterion=gini, max_depth=20, max_features=sqrt, n_estimators=900; total time=   5.0s\n",
      "[CV 1/3] END criterion=gini, max_depth=20, max_features=sqrt, n_estimators=1000; total time=   5.8s\n",
      "[CV 2/3] END criterion=gini, max_depth=20, max_features=sqrt, n_estimators=1000; total time=   6.7s\n",
      "[CV 3/3] END criterion=gini, max_depth=20, max_features=sqrt, n_estimators=1000; total time=   6.9s\n",
      "[CV 1/3] END criterion=gini, max_depth=20, max_features=sqrt, n_estimators=1100; total time=   4.5s\n",
      "[CV 2/3] END criterion=gini, max_depth=20, max_features=sqrt, n_estimators=1100; total time=   7.7s\n",
      "[CV 3/3] END criterion=gini, max_depth=20, max_features=sqrt, n_estimators=1100; total time=   9.0s\n",
      "[CV 1/3] END criterion=gini, max_depth=30, max_features=sqrt, n_estimators=900; total time=   7.1s\n",
      "[CV 2/3] END criterion=gini, max_depth=30, max_features=sqrt, n_estimators=900; total time=   4.7s\n",
      "[CV 3/3] END criterion=gini, max_depth=30, max_features=sqrt, n_estimators=900; total time=   5.8s\n",
      "[CV 1/3] END criterion=gini, max_depth=30, max_features=sqrt, n_estimators=1000; total time=   7.7s\n",
      "[CV 2/3] END criterion=gini, max_depth=30, max_features=sqrt, n_estimators=1000; total time=   6.9s\n",
      "[CV 3/3] END criterion=gini, max_depth=30, max_features=sqrt, n_estimators=1000; total time=   7.4s\n",
      "[CV 1/3] END criterion=gini, max_depth=30, max_features=sqrt, n_estimators=1100; total time=   8.1s\n",
      "[CV 2/3] END criterion=gini, max_depth=30, max_features=sqrt, n_estimators=1100; total time=   4.8s\n",
      "[CV 3/3] END criterion=gini, max_depth=30, max_features=sqrt, n_estimators=1100; total time=   4.8s\n",
      "[CV 1/3] END criterion=gini, max_depth=40, max_features=sqrt, n_estimators=900; total time=   5.1s\n",
      "[CV 2/3] END criterion=gini, max_depth=40, max_features=sqrt, n_estimators=900; total time=   4.7s\n",
      "[CV 3/3] END criterion=gini, max_depth=40, max_features=sqrt, n_estimators=900; total time=   4.8s\n",
      "[CV 1/3] END criterion=gini, max_depth=40, max_features=sqrt, n_estimators=1000; total time=   3.8s\n",
      "[CV 2/3] END criterion=gini, max_depth=40, max_features=sqrt, n_estimators=1000; total time=   5.5s\n",
      "[CV 3/3] END criterion=gini, max_depth=40, max_features=sqrt, n_estimators=1000; total time=   7.4s\n",
      "[CV 1/3] END criterion=gini, max_depth=40, max_features=sqrt, n_estimators=1100; total time=   8.9s\n",
      "[CV 2/3] END criterion=gini, max_depth=40, max_features=sqrt, n_estimators=1100; total time=   4.9s\n",
      "[CV 3/3] END criterion=gini, max_depth=40, max_features=sqrt, n_estimators=1100; total time=   5.2s\n"
     ]
    },
    {
     "data": {
      "text/plain": [
       "GridSearchCV(cv=3, estimator=RandomForestClassifier(),\n",
       "             param_grid={'criterion': ['gini'], 'max_depth': [20, 30, 40],\n",
       "                         'max_features': ['sqrt'],\n",
       "                         'n_estimators': [900, 1000, 1100]},\n",
       "             return_train_score=True, scoring=<function f1 at 0x7fc6bfcb0820>,\n",
       "             verbose=4)"
      ]
     },
     "execution_count": 53,
     "metadata": {},
     "output_type": "execute_result"
    }
   ],
   "source": [
    "Grid_search_rf.fit(X_train,y_train)"
   ]
  },
  {
   "cell_type": "code",
   "execution_count": 54,
   "id": "6ae94f32",
   "metadata": {},
   "outputs": [
    {
     "name": "stdout",
     "output_type": "stream",
     "text": [
      "{'criterion': 'gini', 'max_depth': 20, 'max_features': 'sqrt', 'n_estimators': 1000}\n",
      "RandomForestClassifier(max_depth=20, max_features='sqrt', n_estimators=1000)\n"
     ]
    }
   ],
   "source": [
    "print(Grid_search_rf.best_params_)\n",
    "print(Grid_search_rf.best_estimator_)"
   ]
  },
  {
   "cell_type": "markdown",
   "id": "84ef32dd",
   "metadata": {},
   "source": [
    "We have the same model as in RandomizeSearcCV.."
   ]
  },
  {
   "cell_type": "markdown",
   "id": "258fdc39",
   "metadata": {},
   "source": [
    "### XGBOOST"
   ]
  },
  {
   "cell_type": "code",
   "execution_count": 56,
   "id": "9cfa21aa",
   "metadata": {},
   "outputs": [
    {
     "name": "stdout",
     "output_type": "stream",
     "text": [
      "Requirement already satisfied: xgboost in ./anaconda3/lib/python3.8/site-packages (1.5.2)\n",
      "Requirement already satisfied: numpy in ./anaconda3/lib/python3.8/site-packages (from xgboost) (1.20.1)\n",
      "Requirement already satisfied: scipy in ./anaconda3/lib/python3.8/site-packages (from xgboost) (1.6.2)\n",
      "Note: you may need to restart the kernel to use updated packages.\n"
     ]
    }
   ],
   "source": [
    "pip install xgboost"
   ]
  },
  {
   "cell_type": "code",
   "execution_count": 57,
   "id": "0ece6daf",
   "metadata": {},
   "outputs": [
    {
     "name": "stdout",
     "output_type": "stream",
     "text": [
      "Fitting 5 folds for each of 5 candidates, totalling 25 fits\n"
     ]
    },
    {
     "name": "stderr",
     "output_type": "stream",
     "text": [
      "/home/euclide03/anaconda3/lib/python3.8/site-packages/xgboost/sklearn.py:1224: UserWarning: The use of label encoder in XGBClassifier is deprecated and will be removed in a future release. To remove this warning, do the following: 1) Pass option use_label_encoder=False when constructing XGBClassifier object; and 2) Encode your labels (y) as integers starting with 0, i.e. 0, 1, 2, ..., [num_class - 1].\n",
      "  warnings.warn(label_encoder_deprecation_msg, UserWarning)\n"
     ]
    },
    {
     "name": "stdout",
     "output_type": "stream",
     "text": [
      "[15:28:41] WARNING: ../src/learner.cc:1115: Starting in XGBoost 1.3.0, the default evaluation metric used with the objective 'multi:softprob' was changed from 'merror' to 'mlogloss'. Explicitly set eval_metric if you'd like to restore the old behavior.\n"
     ]
    },
    {
     "data": {
      "text/plain": [
       "RandomizedSearchCV(cv=5,\n",
       "                   estimator=XGBClassifier(base_score=None, booster=None,\n",
       "                                           colsample_bylevel=None,\n",
       "                                           colsample_bynode=None,\n",
       "                                           colsample_bytree=None,\n",
       "                                           enable_categorical=False, gamma=None,\n",
       "                                           gpu_id=None, importance_type=None,\n",
       "                                           interaction_constraints=None,\n",
       "                                           learning_rate=None,\n",
       "                                           max_delta_step=None, max_depth=None,\n",
       "                                           min_child_weight=None, missing=nan,\n",
       "                                           monotone_constraints...\n",
       "                                           reg_alpha=None, reg_lambda=None,\n",
       "                                           scale_pos_weight=None,\n",
       "                                           subsample=None, tree_method=None,\n",
       "                                           validate_parameters=None,\n",
       "                                           verbosity=None),\n",
       "                   n_iter=5, n_jobs=-1,\n",
       "                   param_distributions={'colsample_bytree': [0.3, 0.4, 0.5,\n",
       "                                                             0.7],\n",
       "                                        'learning_rate': [0.05, 0.1, 0.15, 0.2,\n",
       "                                                          0.25, 0.3],\n",
       "                                        'max_depth': [3, 6, 9, 15, 20],\n",
       "                                        'min_child_weight': [1, 3, 5, 7]},\n",
       "                   scoring=<function f1 at 0x7fc6bfcb0820>, verbose=3)"
      ]
     },
     "execution_count": 57,
     "metadata": {},
     "output_type": "execute_result"
    }
   ],
   "source": [
    "import xgboost as xgb\n",
    "\n",
    "params={\n",
    "    'learning_rate':[0.05,0.10,0.15,0.20,0.25,0.30],\n",
    "    'max_depth':[3,6,9,15,20],\n",
    "    'min_child_weight':[1,3,5,7],\n",
    "    'colsample_bytree':[0.3,0.4,0.5,0.7]\n",
    "}\n",
    "\n",
    "clf = xgb.XGBClassifier(objective=\"multi:softmax\")\n",
    "random_xgb=RandomizedSearchCV(clf,param_distributions=params,n_iter=5,scoring=f1,n_jobs=-1,cv=5,verbose=3)\n",
    "random_xgb.fit(X_train,y_train)"
   ]
  },
  {
   "cell_type": "code",
   "execution_count": 58,
   "id": "8c4b7a84",
   "metadata": {},
   "outputs": [
    {
     "name": "stdout",
     "output_type": "stream",
     "text": [
      "{'min_child_weight': 3, 'max_depth': 3, 'learning_rate': 0.3, 'colsample_bytree': 0.4}\n",
      "XGBClassifier(base_score=0.5, booster='gbtree', colsample_bylevel=1,\n",
      "              colsample_bynode=1, colsample_bytree=0.4,\n",
      "              enable_categorical=False, gamma=0, gpu_id=-1,\n",
      "              importance_type=None, interaction_constraints='',\n",
      "              learning_rate=0.3, max_delta_step=0, max_depth=3,\n",
      "              min_child_weight=3, missing=nan, monotone_constraints='()',\n",
      "              n_estimators=100, n_jobs=8, num_parallel_tree=1,\n",
      "              objective='multi:softprob', predictor='auto', random_state=0,\n",
      "              reg_alpha=0, reg_lambda=1, scale_pos_weight=None, subsample=1,\n",
      "              tree_method='exact', validate_parameters=1, verbosity=None)\n"
     ]
    }
   ],
   "source": [
    "print(random_xgb.best_params_)\n",
    "print(random_xgb.best_estimator_)"
   ]
  },
  {
   "cell_type": "code",
   "execution_count": 59,
   "id": "72a54e0a",
   "metadata": {},
   "outputs": [
    {
     "name": "stdout",
     "output_type": "stream",
     "text": [
      "Accuracy: 0.5591939546599496\n",
      "F1 score: 0.5591939546599496\n",
      "Recall: 0.5591939546599496\n",
      "Precision: 0.5591939546599496\n",
      "\n",
      "\n"
     ]
    },
    {
     "data": {
      "image/png": "[encoded data removed]",
      "text/plain": [
       "<Figure size 432x288 with 2 Axes>"
      ]
     },
     "metadata": {},
     "output_type": "display_data"
    }
   ],
   "source": [
    "random_clf=xgb.XGBClassifier(min_child_weight= 3,colsample_bytree=0.4, learning_rate=0.03, max_depth=3,\n",
    "              objective='multi:softmax',eval_metric='mlogloss')\n",
    "\n",
    "random_clf.fit(X_train,y_train)\n",
    "y_xg=random_clf.predict(X_test)\n",
    "\n",
    "metrics_mesures(y_test,y_xg)"
   ]
  },
  {
   "cell_type": "code",
   "execution_count": 60,
   "id": "909afb86",
   "metadata": {},
   "outputs": [
    {
     "name": "stderr",
     "output_type": "stream",
     "text": [
      "/home/euclide03/anaconda3/lib/python3.8/site-packages/xgboost/sklearn.py:1224: UserWarning: The use of label encoder in XGBClassifier is deprecated and will be removed in a future release. To remove this warning, do the following: 1) Pass option use_label_encoder=False when constructing XGBClassifier object; and 2) Encode your labels (y) as integers starting with 0, i.e. 0, 1, 2, ..., [num_class - 1].\n",
      "  warnings.warn(label_encoder_deprecation_msg, UserWarning)\n"
     ]
    },
    {
     "name": "stdout",
     "output_type": "stream",
     "text": [
      "Accuracy: 0.5667506297229219\n",
      "F1 score: 0.5667506297229219\n",
      "Recall: 0.5667506297229219\n",
      "Precision: 0.5667506297229219\n",
      "\n",
      "\n"
     ]
    },
    {
     "data": {
      "image/png": "[encoded data removed]",
      "text/plain": [
       "<Figure size 432x288 with 2 Axes>"
      ]
     },
     "metadata": {},
     "output_type": "display_data"
    }
   ],
   "source": [
    "# for balanced data\n",
    "random_clf.fit(X_trainB,y_trainB)\n",
    "y_xgB=random_clf.predict(X_test)\n",
    "\n",
    "metrics_mesures(y_test,y_xgB)"
   ]
  },
  {
   "cell_type": "markdown",
   "id": "81068dc5",
   "metadata": {},
   "source": [
    "# Comparasion between Models"
   ]
  },
  {
   "cell_type": "markdown",
   "id": "2ffbacb5",
   "metadata": {},
   "source": [
    "Looking to metrics, we assume that the SVM model, gives up the best results."
   ]
  },
  {
   "cell_type": "markdown",
   "id": "35a0a205",
   "metadata": {},
   "source": [
    "# Predictions"
   ]
  },
  {
   "cell_type": "code",
   "execution_count": 62,
   "id": "18e52393",
   "metadata": {},
   "outputs": [
    {
     "data": {
      "text/plain": [
       "(1209, 103)"
      ]
     },
     "execution_count": 62,
     "metadata": {},
     "output_type": "execute_result"
    }
   ],
   "source": [
    "data_to_complete=pd.merge(client_to_predict, null_professions, how='inner',on='client_id').drop_duplicates()\n",
    "data_to_complete.shape"
   ]
  },
  {
   "cell_type": "code",
   "execution_count": 63,
   "id": "e1764313",
   "metadata": {},
   "outputs": [
    {
     "data": {
      "text/html": [
       "<div>\n",
       "<style scoped>\n",
       "    .dataframe tbody tr th:only-of-type {\n",
       "        vertical-align: middle;\n",
       "    }\n",
       "\n",
       "    .dataframe tbody tr th {\n",
       "        vertical-align: top;\n",
       "    }\n",
       "\n",
       "    .dataframe thead th {\n",
       "        text-align: right;\n",
       "    }\n",
       "</style>\n",
       "<table border=\"1\" class=\"dataframe\">\n",
       "  <thead>\n",
       "    <tr style=\"text-align: right;\">\n",
       "      <th></th>\n",
       "      <th>product_id_21.0</th>\n",
       "      <th>product_id_12.0</th>\n",
       "      <th>product_id_3.0</th>\n",
       "      <th>product_id_90.0</th>\n",
       "      <th>product_id_86.0</th>\n",
       "      <th>product_id_56.0</th>\n",
       "      <th>product_id_97.0</th>\n",
       "      <th>product_id_7.0</th>\n",
       "      <th>product_id_35.0</th>\n",
       "      <th>product_id_92.0</th>\n",
       "      <th>...</th>\n",
       "      <th>product_id_51.0</th>\n",
       "      <th>product_id_31.0</th>\n",
       "      <th>product_id_23.0</th>\n",
       "      <th>product_id_5.0</th>\n",
       "      <th>product_id_17.0</th>\n",
       "      <th>product_id_4.0</th>\n",
       "      <th>product_id_15.0</th>\n",
       "      <th>product_id_88.0</th>\n",
       "      <th>product_id_38.0</th>\n",
       "      <th>product_id_100.0</th>\n",
       "    </tr>\n",
       "  </thead>\n",
       "  <tbody>\n",
       "    <tr>\n",
       "      <th>0</th>\n",
       "      <td>0.0</td>\n",
       "      <td>0.0</td>\n",
       "      <td>0.0</td>\n",
       "      <td>1.0</td>\n",
       "      <td>0.0</td>\n",
       "      <td>0.0</td>\n",
       "      <td>0.0</td>\n",
       "      <td>0.0</td>\n",
       "      <td>0.0</td>\n",
       "      <td>0.0</td>\n",
       "      <td>...</td>\n",
       "      <td>0.0</td>\n",
       "      <td>0.0</td>\n",
       "      <td>0.0</td>\n",
       "      <td>0.0</td>\n",
       "      <td>0.0</td>\n",
       "      <td>0.0</td>\n",
       "      <td>0.0</td>\n",
       "      <td>0.0</td>\n",
       "      <td>0.0</td>\n",
       "      <td>0.0</td>\n",
       "    </tr>\n",
       "    <tr>\n",
       "      <th>1</th>\n",
       "      <td>0.0</td>\n",
       "      <td>0.0</td>\n",
       "      <td>0.0</td>\n",
       "      <td>0.0</td>\n",
       "      <td>0.0</td>\n",
       "      <td>0.0</td>\n",
       "      <td>0.0</td>\n",
       "      <td>0.0</td>\n",
       "      <td>0.0</td>\n",
       "      <td>0.0</td>\n",
       "      <td>...</td>\n",
       "      <td>0.0</td>\n",
       "      <td>0.0</td>\n",
       "      <td>0.0</td>\n",
       "      <td>0.0</td>\n",
       "      <td>0.0</td>\n",
       "      <td>0.0</td>\n",
       "      <td>0.0</td>\n",
       "      <td>0.0</td>\n",
       "      <td>0.0</td>\n",
       "      <td>0.0</td>\n",
       "    </tr>\n",
       "    <tr>\n",
       "      <th>2</th>\n",
       "      <td>0.0</td>\n",
       "      <td>0.0</td>\n",
       "      <td>0.0</td>\n",
       "      <td>0.0</td>\n",
       "      <td>0.0</td>\n",
       "      <td>0.0</td>\n",
       "      <td>0.0</td>\n",
       "      <td>0.0</td>\n",
       "      <td>0.0</td>\n",
       "      <td>0.0</td>\n",
       "      <td>...</td>\n",
       "      <td>0.0</td>\n",
       "      <td>0.0</td>\n",
       "      <td>0.0</td>\n",
       "      <td>0.0</td>\n",
       "      <td>0.0</td>\n",
       "      <td>0.0</td>\n",
       "      <td>1.0</td>\n",
       "      <td>0.0</td>\n",
       "      <td>0.0</td>\n",
       "      <td>0.0</td>\n",
       "    </tr>\n",
       "    <tr>\n",
       "      <th>3</th>\n",
       "      <td>0.0</td>\n",
       "      <td>0.0</td>\n",
       "      <td>0.0</td>\n",
       "      <td>0.0</td>\n",
       "      <td>0.0</td>\n",
       "      <td>0.0</td>\n",
       "      <td>0.0</td>\n",
       "      <td>0.0</td>\n",
       "      <td>0.0</td>\n",
       "      <td>0.0</td>\n",
       "      <td>...</td>\n",
       "      <td>0.0</td>\n",
       "      <td>0.0</td>\n",
       "      <td>0.0</td>\n",
       "      <td>0.0</td>\n",
       "      <td>0.0</td>\n",
       "      <td>0.0</td>\n",
       "      <td>1.0</td>\n",
       "      <td>0.0</td>\n",
       "      <td>0.0</td>\n",
       "      <td>0.0</td>\n",
       "    </tr>\n",
       "    <tr>\n",
       "      <th>4</th>\n",
       "      <td>0.0</td>\n",
       "      <td>0.0</td>\n",
       "      <td>0.0</td>\n",
       "      <td>0.0</td>\n",
       "      <td>0.0</td>\n",
       "      <td>0.0</td>\n",
       "      <td>0.0</td>\n",
       "      <td>0.0</td>\n",
       "      <td>0.0</td>\n",
       "      <td>1.0</td>\n",
       "      <td>...</td>\n",
       "      <td>0.0</td>\n",
       "      <td>0.0</td>\n",
       "      <td>0.0</td>\n",
       "      <td>0.0</td>\n",
       "      <td>0.0</td>\n",
       "      <td>0.0</td>\n",
       "      <td>0.0</td>\n",
       "      <td>0.0</td>\n",
       "      <td>0.0</td>\n",
       "      <td>0.0</td>\n",
       "    </tr>\n",
       "  </tbody>\n",
       "</table>\n",
       "<p>5 rows × 101 columns</p>\n",
       "</div>"
      ],
      "text/plain": [
       "   product_id_21.0  product_id_12.0  product_id_3.0  product_id_90.0  \\\n",
       "0              0.0              0.0             0.0              1.0   \n",
       "1              0.0              0.0             0.0              0.0   \n",
       "2              0.0              0.0             0.0              0.0   \n",
       "3              0.0              0.0             0.0              0.0   \n",
       "4              0.0              0.0             0.0              0.0   \n",
       "\n",
       "   product_id_86.0  product_id_56.0  product_id_97.0  product_id_7.0  \\\n",
       "0              0.0              0.0              0.0             0.0   \n",
       "1              0.0              0.0              0.0             0.0   \n",
       "2              0.0              0.0              0.0             0.0   \n",
       "3              0.0              0.0              0.0             0.0   \n",
       "4              0.0              0.0              0.0             0.0   \n",
       "\n",
       "   product_id_35.0  product_id_92.0  ...  product_id_51.0  product_id_31.0  \\\n",
       "0              0.0              0.0  ...              0.0              0.0   \n",
       "1              0.0              0.0  ...              0.0              0.0   \n",
       "2              0.0              0.0  ...              0.0              0.0   \n",
       "3              0.0              0.0  ...              0.0              0.0   \n",
       "4              0.0              1.0  ...              0.0              0.0   \n",
       "\n",
       "   product_id_23.0  product_id_5.0  product_id_17.0  product_id_4.0  \\\n",
       "0              0.0             0.0              0.0             0.0   \n",
       "1              0.0             0.0              0.0             0.0   \n",
       "2              0.0             0.0              0.0             0.0   \n",
       "3              0.0             0.0              0.0             0.0   \n",
       "4              0.0             0.0              0.0             0.0   \n",
       "\n",
       "   product_id_15.0  product_id_88.0  product_id_38.0  product_id_100.0  \n",
       "0              0.0              0.0              0.0               0.0  \n",
       "1              0.0              0.0              0.0               0.0  \n",
       "2              1.0              0.0              0.0               0.0  \n",
       "3              1.0              0.0              0.0               0.0  \n",
       "4              0.0              0.0              0.0               0.0  \n",
       "\n",
       "[5 rows x 101 columns]"
      ]
     },
     "execution_count": 63,
     "metadata": {},
     "output_type": "execute_result"
    }
   ],
   "source": [
    "data_to_complete_ids=data_to_complete[\"client_id\"]\n",
    "data_to_complete=data_to_complete.drop([\"client_id\",\"Profession\"],1)\n",
    "data_to_complete.head()"
   ]
  },
  {
   "cell_type": "code",
   "execution_count": 64,
   "id": "664fbbc6",
   "metadata": {},
   "outputs": [],
   "source": [
    "lin_clf = LinearSVC(random_state=42)\n",
    "lin_clf.fit(X_train, y_train)\n",
    "y_pred = lin_clf.predict(data_to_complete)"
   ]
  },
  {
   "cell_type": "code",
   "execution_count": 65,
   "id": "ffbb8514",
   "metadata": {},
   "outputs": [
    {
     "data": {
      "text/html": [
       "<div>\n",
       "<style scoped>\n",
       "    .dataframe tbody tr th:only-of-type {\n",
       "        vertical-align: middle;\n",
       "    }\n",
       "\n",
       "    .dataframe tbody tr th {\n",
       "        vertical-align: top;\n",
       "    }\n",
       "\n",
       "    .dataframe thead th {\n",
       "        text-align: right;\n",
       "    }\n",
       "</style>\n",
       "<table border=\"1\" class=\"dataframe\">\n",
       "  <thead>\n",
       "    <tr style=\"text-align: right;\">\n",
       "      <th></th>\n",
       "      <th>Professions</th>\n",
       "    </tr>\n",
       "  </thead>\n",
       "  <tbody>\n",
       "    <tr>\n",
       "      <th>0</th>\n",
       "      <td>Menuisier</td>\n",
       "    </tr>\n",
       "    <tr>\n",
       "      <th>1</th>\n",
       "      <td>Menuisier</td>\n",
       "    </tr>\n",
       "    <tr>\n",
       "      <th>2</th>\n",
       "      <td>Platrier</td>\n",
       "    </tr>\n",
       "    <tr>\n",
       "      <th>3</th>\n",
       "      <td>Platrier</td>\n",
       "    </tr>\n",
       "    <tr>\n",
       "      <th>4</th>\n",
       "      <td>Menuisier</td>\n",
       "    </tr>\n",
       "  </tbody>\n",
       "</table>\n",
       "</div>"
      ],
      "text/plain": [
       "  Professions\n",
       "0   Menuisier\n",
       "1   Menuisier\n",
       "2    Platrier\n",
       "3    Platrier\n",
       "4   Menuisier"
      ]
     },
     "execution_count": 65,
     "metadata": {},
     "output_type": "execute_result"
    }
   ],
   "source": [
    "y_pred = pd.DataFrame({'Professions':y_pred}) \n",
    "map_dict = {1: 'Menuisier',2:'Platrier',3:'Maçon',4:'Plombier',5:'Couvreur'}\n",
    "y_pred[\"Professions\"] = y_pred[\"Professions\"].map(map_dict)\n",
    "y_pred.head()"
   ]
  },
  {
   "cell_type": "code",
   "execution_count": 66,
   "id": "126f51a4",
   "metadata": {},
   "outputs": [],
   "source": [
    "data_to_complete=pd.concat([data_to_complete_ids, y_pred], axis=1)"
   ]
  },
  {
   "cell_type": "code",
   "execution_count": 70,
   "id": "d013b5d1",
   "metadata": {},
   "outputs": [],
   "source": [
    "data_to_complete.to_csv(\"data_to_complete1\")"
   ]
  }
 ],
 "metadata": {
  "kernelspec": {
   "display_name": "Python 3",
   "language": "python",
   "name": "python3"
  },
  "language_info": {
   "codemirror_mode": {
    "name": "ipython",
    "version": 3
   },
   "file_extension": ".py",
   "mimetype": "text/x-python",
   "name": "python",
   "nbconvert_exporter": "python",
   "pygments_lexer": "ipython3",
   "version": "3.8.8"
  }
 },
 "nbformat": 4,
 "nbformat_minor": 5
}
